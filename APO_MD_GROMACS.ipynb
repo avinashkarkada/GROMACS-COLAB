{
  "nbformat": 4,
  "nbformat_minor": 0,
  "metadata": {
    "colab": {
      "name": "APO-MD-GROMACS.ipynb",
      "provenance": [],
      "collapsed_sections": [],
      "authorship_tag": "ABX9TyPJm+txM8EbU9gYzECFon1e",
      "include_colab_link": true
    },
    "kernelspec": {
      "name": "python3",
      "display_name": "Python 3"
    },
    "language_info": {
      "name": "python"
    },
    "accelerator": "GPU",
    "gpuClass": "standard"
  },
  "cells": [
    {
      "cell_type": "markdown",
      "metadata": {
        "id": "view-in-github",
        "colab_type": "text"
      },
      "source": [
        "<a href=\"https://colab.research.google.com/github/avinashkarkada/GROMACS-COLAB/blob/main/APO_MD_GROMACS.ipynb\" target=\"_parent\"><img src=\"https://colab.research.google.com/assets/colab-badge.svg\" alt=\"Open In Colab\"/></a>"
      ]
    },
    {
      "cell_type": "code",
      "source": [
        "#@title Make sure you are connected to a GPU node\n",
        "\n",
        "gpu_info = !nvidia-smi\n",
        "gpu_info = '\\n'.join(gpu_info)\n",
        "if gpu_info.find('failed') >= 0:\n",
        "  print('Select the Runtime > \"Change runtime type\" menu to enable a GPU accelerator, ')\n",
        "  print('and then re-execute this cell.')\n",
        "else:\n",
        "  print(gpu_info)"
      ],
      "metadata": {
        "id": "vQi8ydLlCtBe"
      },
      "execution_count": null,
      "outputs": []
    },
    {
      "cell_type": "code",
      "source": [
        "#@title Download and unzip the compressed folder of GROMACS 2020.6 version\n",
        "!wget https://raw.githubusercontent.com/pb3lab/ibm3202/master/software/gromacs.tar.gz\n",
        "!tar xzf gromacs.tar.gz"
      ],
      "metadata": {
        "id": "MsrgeeIChWFX"
      },
      "execution_count": null,
      "outputs": []
    },
    {
      "cell_type": "code",
      "source": [
        "!pip install cmake --upgrade"
      ],
      "metadata": {
        "id": "Yb9s3J0UhalJ"
      },
      "execution_count": null,
      "outputs": []
    },
    {
      "cell_type": "code",
      "source": [
        "%%bash\n",
        "source /content/gromacs/bin/GMXRC\n",
        "pwd\n",
        "gmx -h"
      ],
      "metadata": {
        "id": "vzO_PUV5hcte"
      },
      "execution_count": null,
      "outputs": []
    },
    {
      "cell_type": "markdown",
      "source": [
        "Enter a name for your folder:"
      ],
      "metadata": {
        "id": "XcHwftITUASI"
      }
    },
    {
      "cell_type": "code",
      "source": [
        "#@title Make a folder in google drive and enter its name Paste your protein.pdb file, force field folder and all mdp files in that folder.\n",
        "\n",
        "\n",
        "import os\n",
        "from pathlib import Path \n",
        "Folder_name = \"\" #@param {type:\"string\"}\n",
        "mdpath = Path(\"/content/\" + Folder_name + \"/\") \n",
        "\n",
        "if os.path.exists(mdpath):\n",
        "  print(\"path already exists\")\n",
        "if not os.path.exists(mdpath):\n",
        "  os.mkdir(mdpath)\n",
        "  print(\"path was succesfully created\")\n",
        "\n",
        "os.chdir(mdpath)\n",
        "!pwd"
      ],
      "metadata": {
        "id": "e_sSPLm_he9T"
      },
      "execution_count": null,
      "outputs": []
    },
    {
      "cell_type": "code",
      "source": [
        "#@title Enter the name of the folder in your gdrive below after the path\n",
        "from google.colab import drive\n",
        "import os\n",
        "from pathlib import Path\n",
        "\n",
        "drive.flush_and_unmount()\n",
        "drive.mount('/content/drive', force_remount=True)\n",
        "\n",
        "Google_Drive_Path = '/content/drive/MyDrive/' #@param {type:\"string\"}\n",
        "workDir = Google_Drive_Path\n"
      ],
      "metadata": {
        "id": "44tNmhQMhhmo"
      },
      "execution_count": null,
      "outputs": []
    },
    {
      "cell_type": "code",
      "source": [
        "!cp -r $workDir/* $mdpath\n",
        "!cp -r $workDir/*.ff $mdpath\n"
      ],
      "metadata": {
        "id": "RM13adqNOmCJ"
      },
      "execution_count": null,
      "outputs": []
    },
    {
      "cell_type": "code",
      "source": [
        "!sudo mv *.pdb protein.pdb\n",
        "!chmod a+x *\n",
        "!ls -l"
      ],
      "metadata": {
        "id": "bfP3nE1_cKrA"
      },
      "execution_count": null,
      "outputs": []
    },
    {
      "cell_type": "code",
      "source": [
        "%%bash\n",
        "source /content/gromacs/bin/GMXRC\n",
        "echo \"1\" | gmx pdb2gmx -f protein.pdb -o protein.gro -water spce -ignh \n",
        "\n"
      ],
      "metadata": {
        "id": "-ezOo39phlpU"
      },
      "execution_count": null,
      "outputs": []
    },
    {
      "cell_type": "code",
      "source": [
        "!/content/gromacs/bin/gmx editconf -f protein.gro -o newbox.gro -c -d 0.5 -bt cubic\n",
        "!/content/gromacs/bin/gmx grompp -f vacuum.mdp -c newbox.gro -p topol.top -o protein-EM-vacuum.tpr -maxwarn 2\n",
        "!/content/gromacs/bin/gmx mdrun -v -deffnm protein-EM-vacuum -c protein-EM-vacuum.pdb\n",
        "!/content/gromacs/bin/gmx mdrun -v -deffnm protein-EM-vacuum\n",
        "!/content/gromacs/bin/gmx solvate -cp protein-EM-vacuum.gro -cs spc216.gro -p topol.top -o solv.gro\n",
        "!/content/gromacs/bin/gmx grompp -f em.mdp -c solv.gro -p topol.top -o ions.tpr -maxwarn 2\n",
        "!/content/gromacs/bin/gmx genion -s ions.tpr -o solv_ions.gro -p topol.top -conc 0.15  -neutral -pname NA -nname CL <<< 13\n",
        "!/content/gromacs/bin/gmx grompp -f em.mdp -c solv_ions.gro -p topol.top -o em.tpr -maxwarn 2\n",
        "!/content/gromacs/bin/gmx mdrun -v -deffnm em\n",
        "!/content/gromacs/bin/gmx grompp -f nvt.mdp -c em.gro -p topol.top -o nvt.tpr -r em.gro -maxwarn 2\n",
        "!/content/gromacs/bin/gmx mdrun -deffnm nvt -v\n",
        "!/content/gromacs/bin/gmx grompp -f npt.mdp -c nvt.gro -t nvt.cpt -p topol.top -o npt-1000.tpr -r em.gro -maxwarn 2\n",
        "!/content/gromacs/bin/gmx mdrun -deffnm npt-1000  -v"
      ],
      "metadata": {
        "id": "hD63RRMohoCE"
      },
      "execution_count": null,
      "outputs": []
    },
    {
      "cell_type": "code",
      "source": [
        "%%bash\n",
        "source /content/gromacs/bin/GMXRC\n",
        "\n",
        "\n",
        "\n",
        "arr=(*_*_*_*.itp) && echo \"${arr[0]}\"\n",
        "\n",
        "filename=${arr[0]}\n",
        "\n",
        "if [ -f \"${filename}\" ]\n",
        "\n",
        "then\n",
        "\n",
        "vim -c \":%s/1000  1000  1000/100     100     100/g\" -c wq <<< E ${arr[0]}\n",
        "vim -c \":%s/1000  1000  1000/100     100     100/g\" -c wq <<< E ${arr[1]}\n",
        "gmx grompp -f npt.mdp -c npt-1000.gro -t npt-1000.cpt -p topol.top -o npt-100.tpr -r em.gro -maxwarn 2\n",
        "gmx mdrun -deffnm npt-100  -v\n",
        "vim -c \":%s/100     100     100/10     10     10/g\" -c wq <<< E ${arr[0]}\n",
        "vim -c \":%s/100     100     100/10     10     10/g\" -c wq <<< E ${arr[1]}\n",
        "gmx grompp -f npt.mdp -c npt-100.gro -t npt-100.cpt -p topol.top -o npt-10.tpr -r em.gro -maxwarn 2\n",
        "gmx mdrun -deffnm npt-10  -v\n",
        "vim -c \":%s/10     10     10/1     1     1/g\" -c wq <<< E ${arr[0]}\n",
        "vim -c \":%s/10     10     10/1     1     1/g\" -c wq <<< E ${arr[1]}\n",
        "\n",
        "else\n",
        "\n",
        "vim -c \":%s/1000  1000  1000/100     100     100/g\" -c wq <<< E posre.itp\n",
        "gmx grompp -f npt.mdp -c npt-1000.gro -t npt-1000.cpt -p topol.top -o npt-100.tpr -r em.gro -maxwarn 2\n",
        "gmx mdrun -deffnm npt-100  -v\n",
        "vim -c \":%s/100     100     100/10     10     10/g\" -c wq <<< E posre.itp\n",
        "gmx grompp -f npt.mdp -c npt-100.gro -t npt-100.cpt -p topol.top -o npt-10.tpr -r em.gro -maxwarn 2\n",
        "gmx mdrun -deffnm npt-10  -v\n",
        "vim -c \":%s/10     10     10/1     1     1/g\" -c wq <<< E posre.itp\n",
        "fi\n",
        "\n",
        "gmx grompp -f npt.mdp -c npt-10.gro -t npt-10.cpt -p topol.top -o npt-1.tpr -r em.gro -maxwarn 2\n",
        "gmx mdrun -deffnm npt-1 -v\n",
        "vim -c \":%s/define/;define/g\" -c wq <<< E npt.mdp\n",
        "gmx grompp -f npt.mdp -c npt-1.gro -t npt-1.cpt -p topol.top -o npt.tpr -r em.gro -maxwarn 2\n",
        "gmx mdrun -deffnm npt -v\n",
        "gmx grompp -f md.mdp -c npt.gro -t npt.cpt -p topol.top -o protein-10ns.tpr -maxwarn 2\n"
      ],
      "metadata": {
        "id": "W0k6S8tihxez"
      },
      "execution_count": null,
      "outputs": []
    },
    {
      "cell_type": "code",
      "source": [
        "#@title Production run\n",
        "!/content/gromacs/bin/gmx mdrun -deffnm protein-10ns -v\n"
      ],
      "metadata": {
        "id": "KRMVNwsmbXjJ"
      },
      "execution_count": null,
      "outputs": []
    },
    {
      "cell_type": "code",
      "source": [
        "#@title Analysis\n",
        "%%bash\n",
        "source /content/gromacs/bin/GMXRC\n",
        "printf '1\\n1' | gmx trjconv -s protein-10ns.tpr -f protein-10ns.xtc -o protein-10ns.pdb -pbc cluster\n",
        "printf '1\\n1' | gmx trjconv -s protein-10ns.tpr -f protein-10ns.xtc -o protein-0-10ns.xtc -pbc cluster\n",
        "printf '4\\n4' | gmx rms -s protein-10ns.tpr -f protein-10ns.pdb -o protein-0-1-RMSD.xvg \n",
        "gmx rmsf -s protein-10ns.tpr -f protein-10ns.pdb -o protein-0-10ns-RMSF.xvg -res <<< 3"
      ],
      "metadata": {
        "id": "UFCit2VSbX8c"
      },
      "execution_count": null,
      "outputs": []
    },
    {
      "cell_type": "code",
      "source": [
        "#@title Run this to copy the entire project to your drive. This will paste all the results in \"result\" in your original drive folder.\n",
        "#Warning!!!!\n",
        "#Check if you have enough space!\n",
        "!mkdir $Google_Drive_Path/result\n",
        "!cp -r $mdpath/* $Google_Drive_Path/result"
      ],
      "metadata": {
        "id": "q7IqWdVwTUEH"
      },
      "execution_count": null,
      "outputs": []
    }
  ]
}