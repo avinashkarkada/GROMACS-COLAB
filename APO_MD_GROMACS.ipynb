{
  "nbformat": 4,
  "nbformat_minor": 0,
  "metadata": {
    "colab": {
      "name": "APO-MD-GROMACS.ipynb",
      "provenance": [],
      "authorship_tag": "ABX9TyOvkFgBGIFL95fvWcLG1iFi",
      "include_colab_link": true
    },
    "kernelspec": {
      "name": "python3",
      "display_name": "Python 3"
    },
    "language_info": {
      "name": "python"
    },
    "accelerator": "GPU",
    "gpuClass": "standard"
  },
  "cells": [
    {
      "cell_type": "markdown",
      "metadata": {
        "id": "view-in-github",
        "colab_type": "text"
      },
      "source": [
        "<a href=\"https://colab.research.google.com/github/avinashkarkada/GROMACS-COLAB/blob/main/APO_MD_GROMACS.ipynb\" target=\"_parent\"><img src=\"https://colab.research.google.com/assets/colab-badge.svg\" alt=\"Open In Colab\"/></a>"
      ]
    },
    {
      "cell_type": "code",
      "source": [
        "# Download and unzip the compressed folder of GROMACS 2020.6 version\n",
        "!wget https://raw.githubusercontent.com/pb3lab/ibm3202/master/software/gromacs.tar.gz\n",
        "!tar xzf gromacs.tar.gz"
      ],
      "metadata": {
        "id": "MsrgeeIChWFX"
      },
      "execution_count": null,
      "outputs": []
    },
    {
      "cell_type": "code",
      "source": [
        "!pip install cmake --upgrade"
      ],
      "metadata": {
        "id": "Yb9s3J0UhalJ"
      },
      "execution_count": null,
      "outputs": []
    },
    {
      "cell_type": "code",
      "source": [
        "%%bash\n",
        "source /content/gromacs/bin/GMXRC\n",
        "pwd\n",
        "gmx -h"
      ],
      "metadata": {
        "id": "vzO_PUV5hcte"
      },
      "execution_count": null,
      "outputs": []
    },
    {
      "cell_type": "code",
      "source": [
        "import os\n",
        "from pathlib import Path \n",
        "\n",
        "#Then, we define the path of the folder we want to create.\n",
        "#Notice that the HOME folder for a hosted runtime in colab is /content/\n",
        "mdpath = Path(\"/content/I1171T/\")\n",
        "\n",
        "#Now, we create the folder using the os.mkdir() command\n",
        "#The if conditional is just to check whether the folder already exists\n",
        "#In which case, python returns an error\n",
        "if os.path.exists(mdpath):\n",
        "  print(\"path already exists\")\n",
        "if not os.path.exists(mdpath):\n",
        "  os.mkdir(mdpath)\n",
        "  print(\"path was succesfully created\")\n",
        "\n",
        "os.chdir(mdpath)\n",
        "!pwd"
      ],
      "metadata": {
        "id": "e_sSPLm_he9T"
      },
      "execution_count": null,
      "outputs": []
    },
    {
      "cell_type": "code",
      "source": [
        "from google.colab import drive\n",
        "import os\n",
        "from pathlib import Path\n",
        "\n",
        "drive.flush_and_unmount()\n",
        "drive.mount('/content/drive', force_remount=True)\n",
        "\n",
        "Google_Drive_Path = '/content/drive/MyDrive/I1171T' #@param {type:\"string\"}\n",
        "workDir = Google_Drive_Path\n"
      ],
      "metadata": {
        "id": "44tNmhQMhhmo"
      },
      "execution_count": null,
      "outputs": []
    },
    {
      "cell_type": "code",
      "source": [
        "!cp $workDir/* $mdpath\n",
        "!cp -r $workDir/*.ff $mdpath\n"
      ],
      "metadata": {
        "colab": {
          "base_uri": "https://localhost:8080/"
        },
        "id": "RM13adqNOmCJ",
        "outputId": "2e25e504-4576-4baa-ea34-8fbe1f3a28c9"
      },
      "execution_count": null,
      "outputs": [
        {
          "output_type": "stream",
          "name": "stdout",
          "text": [
            "cp: -r not specified; omitting directory '/content/drive/MyDrive/I1171T/gromos54a7.ff'\n"
          ]
        }
      ]
    },
    {
      "cell_type": "code",
      "source": [
        "%%bash\n",
        "source /content/gromacs/bin/GMXRC\n",
        "echo \"1\" | gmx pdb2gmx -f protein.pdb -o protein.gro -water spce -ignh \n",
        "\n"
      ],
      "metadata": {
        "id": "-ezOo39phlpU"
      },
      "execution_count": null,
      "outputs": []
    },
    {
      "cell_type": "code",
      "source": [
        "%%bash\n",
        "source /content/gromacs/bin/GMXRC\n",
        "\n",
        "gmx editconf -f protein.gro -o newbox.gro -c -d 0.5 -bt cubic\n",
        "gmx grompp -f vacuum.mdp -c newbox.gro -p topol.top -o protein-EM-vacuum.tpr -maxwarn 2\n",
        "gmx mdrun -v -deffnm protein-EM-vacuum -c protein-EM-vacuum.pdb\n",
        "gmx mdrun -v -deffnm protein-EM-vacuum\n",
        "gmx solvate -cp protein-EM-vacuum.gro -cs spc216.gro -p topol.top -o solv.gro\n",
        "gmx grompp -f em.mdp -c solv.gro -p topol.top -o ions.tpr -maxwarn 2\n",
        "gmx genion -s ions.tpr -o solv_ions.gro -p topol.top -conc 0.15  -neutral -pname NA -nname CL <<< 13\n",
        "gmx grompp -f em.mdp -c solv_ions.gro -p topol.top -o em.tpr -maxwarn 2\n",
        "gmx mdrun -v -deffnm em\n",
        "gmx grompp -f nvt.mdp -c em.gro -p topol.top -o nvt.tpr -r em.gro -maxwarn 2\n",
        "gmx mdrun -deffnm nvt -v\n",
        "gmx grompp -f npt.mdp -c nvt.gro -t nvt.cpt -p topol.top -o npt-1000.tpr -r em.gro -maxwarn 2\n",
        "gmx mdrun -deffnm npt-1000  -v"
      ],
      "metadata": {
        "id": "hD63RRMohoCE"
      },
      "execution_count": null,
      "outputs": []
    },
    {
      "cell_type": "code",
      "source": [
        "%%bash\n",
        "source /content/gromacs/bin/GMXRC\n",
        "\n",
        "\n",
        "\n",
        "arr=(*_*_*_*.itp) && echo \"${arr[0]}\"\n",
        "\n",
        "filename=${arr[0]}\n",
        "\n",
        "if [ -f \"${filename}\" ]\n",
        "\n",
        "then\n",
        "\n",
        "vim -c \":%s/1000  1000  1000/100     100     100/g\" -c wq <<< E ${arr[0]}\n",
        "vim -c \":%s/1000  1000  1000/100     100     100/g\" -c wq <<< E ${arr[1]}\n",
        "gmx grompp -f npt.mdp -c npt-1000.gro -t npt-1000.cpt -p topol.top -o npt-100.tpr -r em.gro -maxwarn 2\n",
        "gmx mdrun -deffnm npt-100  -v\n",
        "vim -c \":%s/100     100     100/10     10     10/g\" -c wq <<< E ${arr[0]}\n",
        "vim -c \":%s/100     100     100/10     10     10/g\" -c wq <<< E ${arr[1]}\n",
        "gmx grompp -f npt.mdp -c npt-100.gro -t npt-100.cpt -p topol.top -o npt-10.tpr -r em.gro -maxwarn 2\n",
        "gmx mdrun -deffnm npt-10  -v\n",
        "vim -c \":%s/10     10     10/1     1     1/g\" -c wq <<< E ${arr[0]}\n",
        "vim -c \":%s/10     10     10/1     1     1/g\" -c wq <<< E ${arr[1]}\n",
        "\n",
        "else\n",
        "\n",
        "vim -c \":%s/1000  1000  1000/100     100     100/g\" -c wq <<< E posre.itp\n",
        "gmx grompp -f npt.mdp -c npt-1000.gro -t npt-1000.cpt -p topol.top -o npt-100.tpr -r em.gro -maxwarn 2\n",
        "gmx mdrun -deffnm npt-100  -v\n",
        "vim -c \":%s/100     100     100/10     10     10/g\" -c wq <<< E posre.itp\n",
        "gmx grompp -f npt.mdp -c npt-100.gro -t npt-100.cpt -p topol.top -o npt-10.tpr -r em.gro -maxwarn 2\n",
        "gmx mdrun -deffnm npt-10  -v\n",
        "vim -c \":%s/10     10     10/1     1     1/g\" -c wq <<< E posre.itp\n",
        "fi\n",
        "\n",
        "gmx grompp -f npt.mdp -c npt-10.gro -t npt-10.cpt -p topol.top -o npt-1.tpr -r em.gro -maxwarn 2\n",
        "gmx mdrun -deffnm npt-1 -v\n",
        "vim -c \":%s/define/;define/g\" -c wq <<< E npt.mdp\n",
        "gmx grompp -f npt.mdp -c npt-1.gro -t npt-1.cpt -p topol.top -o npt.tpr -r em.gro -maxwarn 2\n",
        "gmx mdrun -deffnm npt -v\n",
        "gmx grompp -f md.mdp -c npt.gro -t npt.cpt -p topol.top -o protein-10ns.tpr -maxwarn 2\n"
      ],
      "metadata": {
        "id": "W0k6S8tihxez"
      },
      "execution_count": null,
      "outputs": []
    },
    {
      "cell_type": "code",
      "source": [
        "#Production run\n",
        "%%bash\n",
        "source /content/gromacs/bin/GMXRC\n",
        "gmx mdrun -deffnm protein-10ns -v\n"
      ],
      "metadata": {
        "id": "KRMVNwsmbXjJ"
      },
      "execution_count": null,
      "outputs": []
    },
    {
      "cell_type": "code",
      "source": [
        "#Analysis\n",
        "%%bash\n",
        "source /content/gromacs/bin/GMXRC\n",
        "printf '1\\n1' | gmx trjconv -s $pid-1ns.tpr -f $pid-1ns.xtc -o $pid-1ns.pdb -pbc cluster\n",
        "printf '1\\n1' | gmx trjconv -s $pid-1ns.tpr -f $pid-1ns.xtc -o $pid-0-1ns.xtc -pbc cluster\n",
        "printf '4\\n4' | gmx rms -s $pid-1ns.tpr -f $pid-1ns.pdb -o $pid-0-1-RMSD.xvg \n",
        "gmx rmsf -s $pid-1ns.tpr -f $pid-1ns.pdb -o $pid-0-1ns-RMSF.xvg -res <<< 3"
      ],
      "metadata": {
        "id": "UFCit2VSbX8c"
      },
      "execution_count": null,
      "outputs": []
    }
  ]
}