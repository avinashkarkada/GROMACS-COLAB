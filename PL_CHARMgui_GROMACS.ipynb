{
  "nbformat": 4,
  "nbformat_minor": 0,
  "metadata": {
    "colab": {
      "name": "PL-CHARMgui-GROMACS.ipynb",
      "provenance": [],
      "authorship_tag": "ABX9TyP5NTyw7j37XgIcDc5bF8G7",
      "include_colab_link": true
    },
    "kernelspec": {
      "name": "python3",
      "display_name": "Python 3"
    },
    "language_info": {
      "name": "python"
    },
    "accelerator": "GPU",
    "gpuClass": "standard"
  },
  "cells": [
    {
      "cell_type": "markdown",
      "metadata": {
        "id": "view-in-github",
        "colab_type": "text"
      },
      "source": [
        "<a href=\"https://colab.research.google.com/github/avinashkarkada/GROMACS-COLAB/blob/main/PL_CHARMgui_GROMACS.ipynb\" target=\"_parent\"><img src=\"https://colab.research.google.com/assets/colab-badge.svg\" alt=\"Open In Colab\"/></a>"
      ]
    },
    {
      "cell_type": "code",
      "source": [
        "#@title Make sure you are connected to a GPU node\n",
        "\n",
        "gpu_info = !nvidia-smi\n",
        "gpu_info = '\\n'.join(gpu_info)\n",
        "if gpu_info.find('failed') >= 0:\n",
        "  print('Select the Runtime > \"Change runtime type\" menu to enable a GPU accelerator, ')\n",
        "  print('and then re-execute this cell.')\n",
        "else:\n",
        "  print(gpu_info)"
      ],
      "metadata": {
        "id": "cVZ4u3pprBXU"
      },
      "execution_count": null,
      "outputs": []
    },
    {
      "cell_type": "code",
      "execution_count": null,
      "metadata": {
        "id": "7KwvMc3JNrQK"
      },
      "outputs": [],
      "source": [
        "#@title Download and unzip the compressed folder of GROMACS 2020.6 version\n",
        "!wget https://raw.githubusercontent.com/pb3lab/ibm3202/master/software/gromacs.tar.gz\n",
        "!tar xzf gromacs.tar.gz"
      ]
    },
    {
      "cell_type": "code",
      "source": [
        "!pip install cmake --upgrade"
      ],
      "metadata": {
        "id": "zbvehyVsNws7"
      },
      "execution_count": null,
      "outputs": []
    },
    {
      "cell_type": "code",
      "source": [
        "%%bash\n",
        "source /content/gromacs/bin/GMXRC\n",
        "pwd\n",
        "gmx -h"
      ],
      "metadata": {
        "id": "mgHqYdQQNy3N"
      },
      "execution_count": null,
      "outputs": []
    },
    {
      "cell_type": "code",
      "source": [
        "#@title Make a folder in google drive and enter its name. Paste the contents of your gromacs input folder in that folder.\n",
        "\n",
        "import os\n",
        "from pathlib import Path \n",
        "Folder_name = \"\" #@param {type:\"string\"}\n",
        "mdpath = Path(\"/content/\" + Folder_name + \"/\") \n",
        "\n",
        "if os.path.exists(mdpath):\n",
        "  print(\"path already exists\")\n",
        "if not os.path.exists(mdpath):\n",
        "  os.mkdir(mdpath)\n",
        "  print(\"path was succesfully created\")\n",
        "\n",
        "os.chdir(mdpath)\n",
        "!pwd"
      ],
      "metadata": {
        "id": "UocAq9LXN1Oq"
      },
      "execution_count": null,
      "outputs": []
    },
    {
      "cell_type": "code",
      "source": [
        "from google.colab import drive\n",
        "import os\n",
        "from pathlib import Path\n",
        "\n",
        "drive.flush_and_unmount()\n",
        "drive.mount('/content/drive', force_remount=True)\n",
        "\n",
        "Google_Drive_Path = '/content/drive/MyDrive/' #@param {type:\"string\"}\n",
        "workDir = Google_Drive_Path\n"
      ],
      "metadata": {
        "id": "BO5_FjoeN1Rq"
      },
      "execution_count": null,
      "outputs": []
    },
    {
      "cell_type": "code",
      "source": [
        "!cp -r $workDir/* $mdpath\n"
      ],
      "metadata": {
        "id": "yESbLieZN1Ui"
      },
      "execution_count": null,
      "outputs": []
    },
    {
      "cell_type": "code",
      "source": [
        "!pwd\n",
        "!chmod a+x *\n",
        "!ls -l"
      ],
      "metadata": {
        "id": "lPEsTDSbS2C-"
      },
      "execution_count": null,
      "outputs": []
    },
    {
      "cell_type": "code",
      "source": [
        "#@title Make sure that you have changed the commmands below according to your files.\n",
        "\n",
        "!/content/gromacs/bin/gmx grompp -f step4.0_minimization.mdp -o step4.0_minimization.tpr -c step3_input.gro -r step3_input.gro -p topol.top -n index.ndx -maxwarn 1\n",
        "!/content/gromacs/bin/gmx mdrun -v -deffnm step4.0_minimization\n",
        "!/content/gromacs/bin/gmx grompp -f step4.1_equilibration.mdp -o step4.1_equilibration.tpr -c step4.0_minimization.gro -r step3_input.gro -p topol.top -n index.ndx\n",
        "!/content/gromacs/bin/gmx mdrun -v -deffnm step4.1_equilibration\n",
        "\n",
        "\n",
        "!/content/gromacs/bin/gmx grompp -f step5_production.mdp -o step5_production_10ns.tpr -c step4.1_equilibration.gro -p topol.top -n index.ndx\n",
        "!/content/gromacs/bin/gmx mdrun -v -deffnm step5_production_10ns\n"
      ],
      "metadata": {
        "id": "x_qqH0bBN7Zd"
      },
      "execution_count": null,
      "outputs": []
    },
    {
      "cell_type": "code",
      "source": [
        "#@title Analysis\n",
        "%%bash\n",
        "source /content/gromacs/bin/GMXRC\n",
        "printf '1\\n1' | gmx trjconv -s step5_production_10ns.tpr -f step5_production_10ns.xtc -o step5_production_10ns.pdb -pbc cluster\n",
        "printf '1\\n1' | gmx trjconv -s step5_production_10ns.tpr -f step5_production_10ns.xtc -o protein-0-10ns.xtc -pbc cluster\n",
        "printf '4\\n4' | gmx rms -s step5_production_10ns.tpr -f step5_production_10ns.pdb -o protein-0-1-RMSD.xvg \n",
        "gmx rmsf -s step5_production_10ns.tpr -f step5_production_10ns.pdb -o protein-0-10ns-RMSF.xvg -res <<< 3"
      ],
      "metadata": {
        "id": "Syno_lLcr_mX"
      },
      "execution_count": null,
      "outputs": []
    },
    {
      "cell_type": "code",
      "source": [
        "#@title Run this to copy the entire project to your drive. This will paste all the results in \"result\" in your original drive folder.\n",
        "#Warning!!!!\n",
        "#Check if you have enough space!\n",
        "!mkdir $Google_Drive_Path/result\n",
        "!cp -r $mdpath/* $Google_Drive_Path/result"
      ],
      "metadata": {
        "id": "WGHzE2GuPm_o"
      },
      "execution_count": null,
      "outputs": []
    }
  ]
}