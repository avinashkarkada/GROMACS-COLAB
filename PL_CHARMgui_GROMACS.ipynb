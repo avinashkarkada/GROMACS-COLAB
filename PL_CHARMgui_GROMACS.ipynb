{
  "nbformat": 4,
  "nbformat_minor": 0,
  "metadata": {
    "colab": {
      "name": "PL-CHARMgui-GROMACS.ipynb",
      "provenance": [],
      "authorship_tag": "ABX9TyNIesCKYaMx9JHItdD26dao",
      "include_colab_link": true
    },
    "kernelspec": {
      "name": "python3",
      "display_name": "Python 3"
    },
    "language_info": {
      "name": "python"
    },
    "accelerator": "GPU",
    "gpuClass": "standard"
  },
  "cells": [
    {
      "cell_type": "markdown",
      "metadata": {
        "id": "view-in-github",
        "colab_type": "text"
      },
      "source": [
        "<a href=\"https://colab.research.google.com/github/avinashkarkada/GROMACS-COLAB/blob/main/PL_CHARMgui_GROMACS.ipynb\" target=\"_parent\"><img src=\"https://colab.research.google.com/assets/colab-badge.svg\" alt=\"Open In Colab\"/></a>"
      ]
    },
    {
      "cell_type": "code",
      "execution_count": null,
      "metadata": {
        "colab": {
          "base_uri": "https://localhost:8080/"
        },
        "id": "7KwvMc3JNrQK",
        "outputId": "22545c31-be70-4802-aa6a-73247c247eae"
      },
      "outputs": [
        {
          "output_type": "stream",
          "name": "stdout",
          "text": [
            "--2022-08-28 17:00:58--  https://raw.githubusercontent.com/pb3lab/ibm3202/master/software/gromacs.tar.gz\n",
            "Resolving raw.githubusercontent.com (raw.githubusercontent.com)... 185.199.111.133, 185.199.108.133, 185.199.110.133, ...\n",
            "Connecting to raw.githubusercontent.com (raw.githubusercontent.com)|185.199.111.133|:443... connected.\n",
            "HTTP request sent, awaiting response... 200 OK\n",
            "Length: 35608971 (34M) [application/octet-stream]\n",
            "Saving to: ‘gromacs.tar.gz’\n",
            "\n",
            "gromacs.tar.gz      100%[===================>]  33.96M   163MB/s    in 0.2s    \n",
            "\n",
            "2022-08-28 17:00:58 (163 MB/s) - ‘gromacs.tar.gz’ saved [35608971/35608971]\n",
            "\n"
          ]
        }
      ],
      "source": [
        "# Download and unzip the compressed folder of GROMACS 2020.6 version\n",
        "!wget https://raw.githubusercontent.com/pb3lab/ibm3202/master/software/gromacs.tar.gz\n",
        "!tar xzf gromacs.tar.gz"
      ]
    },
    {
      "cell_type": "code",
      "source": [
        "!pip install cmake --upgrade"
      ],
      "metadata": {
        "colab": {
          "base_uri": "https://localhost:8080/"
        },
        "id": "zbvehyVsNws7",
        "outputId": "43ba8349-aab4-442e-98a2-83e138a93a32"
      },
      "execution_count": null,
      "outputs": [
        {
          "output_type": "stream",
          "name": "stdout",
          "text": [
            "Looking in indexes: https://pypi.org/simple, https://us-python.pkg.dev/colab-wheels/public/simple/\n",
            "Requirement already satisfied: cmake in /usr/local/lib/python3.7/dist-packages (3.22.6)\n",
            "Collecting cmake\n",
            "  Downloading cmake-3.24.1-py2.py3-none-manylinux_2_17_x86_64.manylinux2014_x86_64.whl (23.3 MB)\n",
            "\u001b[K     |████████████████████████████████| 23.3 MB 1.7 MB/s \n",
            "\u001b[?25hInstalling collected packages: cmake\n",
            "  Attempting uninstall: cmake\n",
            "    Found existing installation: cmake 3.22.6\n",
            "    Uninstalling cmake-3.22.6:\n",
            "      Successfully uninstalled cmake-3.22.6\n",
            "Successfully installed cmake-3.24.1\n"
          ]
        }
      ]
    },
    {
      "cell_type": "code",
      "source": [
        "%%bash\n",
        "source /content/gromacs/bin/GMXRC\n",
        "pwd\n",
        "gmx -h"
      ],
      "metadata": {
        "colab": {
          "base_uri": "https://localhost:8080/"
        },
        "id": "mgHqYdQQNy3N",
        "outputId": "1595d9ab-a409-4d49-e958-adac27548070"
      },
      "execution_count": null,
      "outputs": [
        {
          "output_type": "stream",
          "name": "stdout",
          "text": [
            "/content\n",
            "SYNOPSIS\n",
            "\n",
            "gmx [-[no]h] [-[no]quiet] [-[no]version] [-[no]copyright] [-nice <int>]\n",
            "    [-[no]backup]\n",
            "\n",
            "OPTIONS\n",
            "\n",
            "Other options:\n",
            "\n",
            " -[no]h                     (no)\n",
            "           Print help and quit\n",
            " -[no]quiet                 (no)\n",
            "           Do not print common startup info or quotes\n",
            " -[no]version               (no)\n",
            "           Print extended version information and quit\n",
            " -[no]copyright             (yes)\n",
            "           Print copyright information on startup\n",
            " -nice   <int>              (19)\n",
            "           Set the nicelevel (default depends on command)\n",
            " -[no]backup                (yes)\n",
            "           Write backups if output files exist\n",
            "\n",
            "Additional help is available on the following topics:\n",
            "    commands    List of available commands\n",
            "    selections  Selection syntax and usage\n",
            "To access the help, use 'gmx help <topic>'.\n",
            "For help on a command, use 'gmx help <command>'.\n"
          ]
        },
        {
          "output_type": "stream",
          "name": "stderr",
          "text": [
            "                         :-) GROMACS - gmx, 2020.6 (-:\n",
            "\n",
            "                            GROMACS is written by:\n",
            "     Emile Apol      Rossen Apostolov      Paul Bauer     Herman J.C. Berendsen\n",
            "    Par Bjelkmar      Christian Blau   Viacheslav Bolnykh     Kevin Boyd    \n",
            " Aldert van Buuren   Rudi van Drunen     Anton Feenstra       Alan Gray     \n",
            "  Gerrit Groenhof     Anca Hamuraru    Vincent Hindriksen  M. Eric Irrgang  \n",
            "  Aleksei Iupinov   Christoph Junghans     Joe Jordan     Dimitrios Karkoulis\n",
            "    Peter Kasson        Jiri Kraus      Carsten Kutzner      Per Larsson    \n",
            "  Justin A. Lemkul    Viveca Lindahl    Magnus Lundborg     Erik Marklund   \n",
            "    Pascal Merz     Pieter Meulenhoff    Teemu Murtola       Szilard Pall   \n",
            "    Sander Pronk      Roland Schulz      Michael Shirts    Alexey Shvetsov  \n",
            "   Alfons Sijbers     Peter Tieleman      Jon Vincent      Teemu Virolainen \n",
            " Christian Wennberg    Maarten Wolf      Artem Zhmurov   \n",
            "                           and the project leaders:\n",
            "        Mark Abraham, Berk Hess, Erik Lindahl, and David van der Spoel\n",
            "\n",
            "Copyright (c) 1991-2000, University of Groningen, The Netherlands.\n",
            "Copyright (c) 2001-2019, The GROMACS development team at\n",
            "Uppsala University, Stockholm University and\n",
            "the Royal Institute of Technology, Sweden.\n",
            "check out http://www.gromacs.org for more information.\n",
            "\n",
            "GROMACS is free software; you can redistribute it and/or modify it\n",
            "under the terms of the GNU Lesser General Public License\n",
            "as published by the Free Software Foundation; either version 2.1\n",
            "of the License, or (at your option) any later version.\n",
            "\n",
            "GROMACS:      gmx, version 2020.6\n",
            "Executable:   /content/gromacs/bin/gmx\n",
            "Data prefix:  /content/gromacs\n",
            "Working dir:  /content\n",
            "Command line:\n",
            "  gmx -h\n",
            "\n",
            "\n",
            "GROMACS reminds you: \"Is This the Right Room for an Argument ?\" (Monty Python)\n",
            "\n"
          ]
        }
      ]
    },
    {
      "cell_type": "code",
      "source": [
        "#Make a folder in drive and enter its name\n",
        "#Paste your protein.pdb file and all mdp files in that folder\n",
        "\n",
        "import os\n",
        "from pathlib import Path \n",
        "Folder_name = \"3htb\" #@param {type:\"string\"}\n",
        "mdpath = Path(\"/content/\" + Folder_name + \"/\") \n",
        "\n",
        "if os.path.exists(mdpath):\n",
        "  print(\"path already exists\")\n",
        "if not os.path.exists(mdpath):\n",
        "  os.mkdir(mdpath)\n",
        "  print(\"path was succesfully created\")\n",
        "\n",
        "os.chdir(mdpath)\n",
        "!pwd"
      ],
      "metadata": {
        "colab": {
          "base_uri": "https://localhost:8080/"
        },
        "id": "UocAq9LXN1Oq",
        "outputId": "4f6bdb4a-7461-489a-9edf-30cfd5bcd16f"
      },
      "execution_count": null,
      "outputs": [
        {
          "output_type": "stream",
          "name": "stdout",
          "text": [
            "path was succesfully created\n",
            "/content/3htb\n"
          ]
        }
      ]
    },
    {
      "cell_type": "code",
      "source": [
        "from google.colab import drive\n",
        "import os\n",
        "from pathlib import Path\n",
        "\n",
        "drive.flush_and_unmount()\n",
        "drive.mount('/content/drive', force_remount=True)\n",
        "\n",
        "Google_Drive_Path = '/content/drive/MyDrive/3htb' #@param {type:\"string\"}\n",
        "workDir = Google_Drive_Path\n"
      ],
      "metadata": {
        "colab": {
          "base_uri": "https://localhost:8080/"
        },
        "id": "BO5_FjoeN1Rq",
        "outputId": "789fb208-7f4e-4349-e4ce-b02fc8f5d132"
      },
      "execution_count": null,
      "outputs": [
        {
          "output_type": "stream",
          "name": "stdout",
          "text": [
            "Drive not mounted, so nothing to flush and unmount.\n",
            "Mounted at /content/drive\n"
          ]
        }
      ]
    },
    {
      "cell_type": "code",
      "source": [
        "!cp -r $workDir/* $mdpath\n",
        "#!cp -r $workDir/*.ff $mdpath\n"
      ],
      "metadata": {
        "id": "yESbLieZN1Ui"
      },
      "execution_count": null,
      "outputs": []
    },
    {
      "cell_type": "code",
      "source": [
        "!pwd\n",
        "!chmod a+x *\n",
        "!ls -l"
      ],
      "metadata": {
        "colab": {
          "base_uri": "https://localhost:8080/"
        },
        "id": "lPEsTDSbS2C-",
        "outputId": "868f83bd-fd04-496b-a3b9-3211f0f39c7d"
      },
      "execution_count": null,
      "outputs": [
        {
          "output_type": "stream",
          "name": "stdout",
          "text": [
            "/content/3htb\n",
            "total 12588\n",
            "-rwx--x--x 1 root root  562923 Aug 28 17:40 index.ndx\n",
            "-rwxr-xr-x 1 root root   10858 Aug 28 17:22 mdout.mdp\n",
            "-rwx--x--x 1 root root    1924 Aug 28 17:40 README\n",
            "-rwx--x--x 1 root root 2087774 Aug 28 17:40 step3_input.gro\n",
            "-rwx--x--x 1 root root 3664984 Aug 28 17:40 step3_input.pdb\n",
            "-rwx--x--x 1 root root 6530678 Aug 28 17:40 step3_input.psf\n",
            "-rwx--x--x 1 root root     525 Aug 28 17:40 step4.0_minimization.mdp\n",
            "-rwx--x--x 1 root root    1055 Aug 28 17:40 step4.1_equilibration.mdp\n",
            "-rwx--x--x 1 root root    1095 Aug 28 17:40 step5_production.mdp\n",
            "-rwx--x--x 1 root root     502 Aug 28 17:40 topol.top\n",
            "drwx--x--x 2 root root    4096 Aug 28 17:40 toppar\n"
          ]
        }
      ]
    },
    {
      "cell_type": "code",
      "source": [
        "!/content/gromacs/bin/gmx grompp -f step4.0_minimization.mdp -o step4.0_minimization.tpr -c step3_input.gro -r step3_input.gro -p topol.top -n index.ndx -maxwarn 1\n",
        "!/content/gromacs/bin/gmx mdrun -v -deffnm step4.0_minimization\n",
        "!/content/gromacs/bin/gmx grompp -f step4.1_equilibration.mdp -o step4.1_equilibration.tpr -c step4.0_minimization.gro -r step3_input.gro -p topol.top -n index.ndx\n",
        "!/content/gromacs/bin/gmx mdrun -v -deffnm step4.1_equilibration\n",
        "\n",
        "\n",
        "!/content/gromacs/bin/gmx grompp -f step5_production.mdp -o step5_production_10ns.tpr -c step4.1_equilibration.gro -p topol.top -n index.ndx\n",
        "!/content/gromacs/bin/gmx mdrun -v -deffnm step5_production_10ns\n"
      ],
      "metadata": {
        "colab": {
          "base_uri": "https://localhost:8080/"
        },
        "id": "x_qqH0bBN7Zd",
        "outputId": "f19abef5-75aa-4779-f6cf-0a877cb8218a"
      },
      "execution_count": null,
      "outputs": [
        {
          "output_type": "stream",
          "name": "stdout",
          "text": [
            "step 124900, remaining wall clock time:     0 s          \n",
            "Writing final coordinates.\n",
            "step 125000, remaining wall clock time:     0 s          \n",
            "               Core t (s)   Wall t (s)        (%)\n",
            "       Time:      550.966      275.483      200.0\n",
            "                 (ns/day)    (hour/ns)\n",
            "Performance:       39.204        0.612\n",
            "\n",
            "GROMACS reminds you: \"It Just Tastes Better\" (Burger King)\n",
            "\n",
            "                      :-) GROMACS - gmx grompp, 2020.6 (-:\n",
            "\n",
            "                            GROMACS is written by:\n",
            "     Emile Apol      Rossen Apostolov      Paul Bauer     Herman J.C. Berendsen\n",
            "    Par Bjelkmar      Christian Blau   Viacheslav Bolnykh     Kevin Boyd    \n",
            " Aldert van Buuren   Rudi van Drunen     Anton Feenstra       Alan Gray     \n",
            "  Gerrit Groenhof     Anca Hamuraru    Vincent Hindriksen  M. Eric Irrgang  \n",
            "  Aleksei Iupinov   Christoph Junghans     Joe Jordan     Dimitrios Karkoulis\n",
            "    Peter Kasson        Jiri Kraus      Carsten Kutzner      Per Larsson    \n",
            "  Justin A. Lemkul    Viveca Lindahl    Magnus Lundborg     Erik Marklund   \n",
            "    Pascal Merz     Pieter Meulenhoff    Teemu Murtola       Szilard Pall   \n",
            "    Sander Pronk      Roland Schulz      Michael Shirts    Alexey Shvetsov  \n",
            "   Alfons Sijbers     Peter Tieleman      Jon Vincent      Teemu Virolainen \n",
            " Christian Wennberg    Maarten Wolf      Artem Zhmurov   \n",
            "                           and the project leaders:\n",
            "        Mark Abraham, Berk Hess, Erik Lindahl, and David van der Spoel\n",
            "\n",
            "Copyright (c) 1991-2000, University of Groningen, The Netherlands.\n",
            "Copyright (c) 2001-2019, The GROMACS development team at\n",
            "Uppsala University, Stockholm University and\n",
            "the Royal Institute of Technology, Sweden.\n",
            "check out http://www.gromacs.org for more information.\n",
            "\n",
            "GROMACS is free software; you can redistribute it and/or modify it\n",
            "under the terms of the GNU Lesser General Public License\n",
            "as published by the Free Software Foundation; either version 2.1\n",
            "of the License, or (at your option) any later version.\n",
            "\n",
            "GROMACS:      gmx grompp, version 2020.6\n",
            "Executable:   /content/gromacs/bin/gmx\n",
            "Data prefix:  /content/gromacs\n",
            "Working dir:  /content/3htb\n",
            "Command line:\n",
            "  gmx grompp -f step5_production.mdp -o step5_production_10ns.tpr -c step4.1_equilibration.gro -p topol.top -n index.ndx\n",
            "\n",
            "Replacing old mdp entry 'nstxtcout' by 'nstxout-compressed'\n",
            "\n",
            "NOTE 1 [file step5_production.mdp]:\n",
            "  leapfrog does not yet support Nose-Hoover chains, nhchainlength reset to 1\n",
            "\n",
            "Setting the LD random seed to 936640511\n",
            "Generated 1272 of the 1275 non-bonded parameter combinations\n",
            "Generating 1-4 interactions: fudge = 1\n",
            "Generated 741 of the 1275 1-4 parameter combinations\n",
            "Excluding 3 bonded neighbours molecule type 'PROA'\n",
            "turning H bonds into constraints...\n",
            "Excluding 3 bonded neighbours molecule type 'JZ4'\n",
            "turning H bonds into constraints...\n",
            "Excluding 1 bonded neighbours molecule type 'POT'\n",
            "turning H bonds into constraints...\n",
            "Excluding 1 bonded neighbours molecule type 'CLA'\n",
            "turning H bonds into constraints...\n",
            "Excluding 2 bonded neighbours molecule type 'TIP3'\n",
            "turning H bonds into constraints...\n",
            "Number of degrees of freedom in T-Coupling group SOLU is 6580.00\n",
            "Number of degrees of freedom in T-Coupling group SOLV is 87597.00\n",
            "Determining Verlet buffer for a tolerance of 0.005 kJ/mol/ps at 303.15 K\n",
            "Calculated rlist for 1x1 atom pair-list as 1.294 nm, buffer size 0.094 nm\n",
            "Set rlist, assuming 4x4 atom pair-list, to 1.221 nm, buffer size 0.021 nm\n",
            "Note that mdrun will redetermine rlist based on the actual pair-list setup\n",
            "Calculating fourier grid dimensions for X Y Z\n",
            "Using a fourier grid of 72x72x72, spacing 0.110 0.110 0.110\n",
            "Estimate for the relative computational load of the PME mesh part: 0.19\n",
            "This run will generate roughly 20 Mb of data\n",
            "\n",
            "There was 1 note\n",
            "\n",
            "GROMACS reminds you: \"It Just Tastes Better\" (Burger King)\n",
            "\n",
            "                      :-) GROMACS - gmx mdrun, 2020.6 (-:\n",
            "\n",
            "                            GROMACS is written by:\n",
            "     Emile Apol      Rossen Apostolov      Paul Bauer     Herman J.C. Berendsen\n",
            "    Par Bjelkmar      Christian Blau   Viacheslav Bolnykh     Kevin Boyd    \n",
            " Aldert van Buuren   Rudi van Drunen     Anton Feenstra       Alan Gray     \n",
            "  Gerrit Groenhof     Anca Hamuraru    Vincent Hindriksen  M. Eric Irrgang  \n",
            "  Aleksei Iupinov   Christoph Junghans     Joe Jordan     Dimitrios Karkoulis\n",
            "    Peter Kasson        Jiri Kraus      Carsten Kutzner      Per Larsson    \n",
            "  Justin A. Lemkul    Viveca Lindahl    Magnus Lundborg     Erik Marklund   \n",
            "    Pascal Merz     Pieter Meulenhoff    Teemu Murtola       Szilard Pall   \n",
            "    Sander Pronk      Roland Schulz      Michael Shirts    Alexey Shvetsov  \n",
            "   Alfons Sijbers     Peter Tieleman      Jon Vincent      Teemu Virolainen \n",
            " Christian Wennberg    Maarten Wolf      Artem Zhmurov   \n",
            "                           and the project leaders:\n",
            "        Mark Abraham, Berk Hess, Erik Lindahl, and David van der Spoel\n",
            "\n",
            "Copyright (c) 1991-2000, University of Groningen, The Netherlands.\n",
            "Copyright (c) 2001-2019, The GROMACS development team at\n",
            "Uppsala University, Stockholm University and\n",
            "the Royal Institute of Technology, Sweden.\n",
            "check out http://www.gromacs.org for more information.\n",
            "\n",
            "GROMACS is free software; you can redistribute it and/or modify it\n",
            "under the terms of the GNU Lesser General Public License\n",
            "as published by the Free Software Foundation; either version 2.1\n",
            "of the License, or (at your option) any later version.\n",
            "\n",
            "GROMACS:      gmx mdrun, version 2020.6\n",
            "Executable:   /content/gromacs/bin/gmx\n",
            "Data prefix:  /content/gromacs\n",
            "Working dir:  /content/3htb\n",
            "Command line:\n",
            "  gmx mdrun -v -deffnm step5_production_10ns\n",
            "\n",
            "Reading file step5_production_10ns.tpr, VERSION 2020.6 (single precision)\n",
            "Changing nstlist from 20 to 100, rlist from 1.221 to 1.34\n",
            "\n",
            "1 GPU selected for this run.\n",
            "Mapping of GPU IDs to the 2 GPU tasks in the 1 rank on this node:\n",
            "  PP:0,PME:0\n",
            "PP tasks will do (non-perturbed) short-ranged interactions on the GPU\n",
            "PP task will update and constrain coordinates on the CPU\n",
            "PME tasks will do all aspects on the GPU\n",
            "Using 1 MPI thread\n",
            "\n",
            "Non-default thread affinity set, disabling internal thread affinity\n",
            "\n",
            "Using 2 OpenMP threads \n",
            "\n",
            "starting mdrun 'Title'\n",
            "500000 steps,   1000.0 ps.\n",
            "step 2300: timed with pme grid 72 72 72, coulomb cutoff 1.200: 519.6 M-cycles\n",
            "step 2500: timed with pme grid 60 60 60, coulomb cutoff 1.317: 552.8 M-cycles\n",
            "step 2700: timed with pme grid 52 52 52, coulomb cutoff 1.519: 701.0 M-cycles\n",
            "step 2900: timed with pme grid 56 56 56, coulomb cutoff 1.411: 587.0 M-cycles\n",
            "step 3100: timed with pme grid 60 60 60, coulomb cutoff 1.317: 538.8 M-cycles\n",
            "step 3300: timed with pme grid 64 64 64, coulomb cutoff 1.234: 513.6 M-cycles\n",
            "step 3500: timed with pme grid 72 72 72, coulomb cutoff 1.200: 510.9 M-cycles\n",
            "step 3700: timed with pme grid 60 60 60, coulomb cutoff 1.317: 570.2 M-cycles\n",
            "step 3900: timed with pme grid 64 64 64, coulomb cutoff 1.234: 583.2 M-cycles\n",
            "step 4100: timed with pme grid 72 72 72, coulomb cutoff 1.200: 497.6 M-cycles\n",
            "step 4300: timed with pme grid 60 60 60, coulomb cutoff 1.317: 608.9 M-cycles\n",
            "step 4500: timed with pme grid 64 64 64, coulomb cutoff 1.234: 561.9 M-cycles\n",
            "step 4700: timed with pme grid 72 72 72, coulomb cutoff 1.200: 543.5 M-cycles\n",
            "              optimal pme grid 72 72 72, coulomb cutoff 1.200\n",
            "step 55700, will finish Sun Aug 28 18:05:02 2022\n",
            "\n",
            "Received the INT signal, stopping within 100 steps\n",
            "\n",
            "step 55800, will finish Sun Aug 28 18:05:02 2022\n",
            "               Core t (s)   Wall t (s)        (%)\n",
            "       Time:      260.211      130.106      200.0\n",
            "                 (ns/day)    (hour/ns)\n",
            "Performance:       74.112        0.324\n",
            "\n",
            "GROMACS reminds you: \"Sort Of\" (Urban Dance Squad)\n",
            "\n"
          ]
        }
      ]
    }
  ]
}